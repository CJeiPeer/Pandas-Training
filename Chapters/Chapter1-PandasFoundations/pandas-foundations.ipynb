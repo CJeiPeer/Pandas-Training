{
 "cells": [
  {
   "cell_type": "code",
   "execution_count": 1,
   "metadata": {},
   "outputs": [],
   "source": [
    "import pandas as pd\n",
    "import numpy as np"
   ]
  },
  {
   "cell_type": "markdown",
   "metadata": {},
   "source": [
    "## Pandas Dataframe"
   ]
  },
  {
   "cell_type": "markdown",
   "metadata": {},
   "source": [
    "#### 1. Read Dataframe"
   ]
  },
  {
   "cell_type": "code",
   "execution_count": 3,
   "metadata": {},
   "outputs": [],
   "source": [
    "file = 'https://raw.githubusercontent.com/CJeiPeer/Pandas-Training/main/Datasets/01-DF-AnalisisSocioEco-Colombia.csv'\n",
    "socioeconomic_analysis = pd.read_csv(file,sep=',')"
   ]
  },
  {
   "cell_type": "code",
   "execution_count": 5,
   "metadata": {},
   "outputs": [
    {
     "data": {
      "text/html": [
       "<div>\n",
       "<style scoped>\n",
       "    .dataframe tbody tr th:only-of-type {\n",
       "        vertical-align: middle;\n",
       "    }\n",
       "\n",
       "    .dataframe tbody tr th {\n",
       "        vertical-align: top;\n",
       "    }\n",
       "\n",
       "    .dataframe thead th {\n",
       "        text-align: right;\n",
       "    }\n",
       "</style>\n",
       "<table border=\"1\" class=\"dataframe\">\n",
       "  <thead>\n",
       "    <tr style=\"text-align: right;\">\n",
       "      <th></th>\n",
       "      <th>Nombre</th>\n",
       "      <th>Género</th>\n",
       "      <th>Fecha_Nacimiento</th>\n",
       "      <th>Altura</th>\n",
       "      <th>Peso</th>\n",
       "      <th>Profesión</th>\n",
       "      <th>Ciudad</th>\n",
       "      <th>Estado_Civil</th>\n",
       "      <th>Salario</th>\n",
       "      <th>Nivel_Educación</th>\n",
       "      <th>Cantidad_Hijos</th>\n",
       "      <th>Hora_Entrada</th>\n",
       "      <th>Hora_Salida</th>\n",
       "      <th>Tipo_Contrato</th>\n",
       "    </tr>\n",
       "  </thead>\n",
       "  <tbody>\n",
       "    <tr>\n",
       "      <th>0</th>\n",
       "      <td>Pedro</td>\n",
       "      <td>F</td>\n",
       "      <td>1961-11-03</td>\n",
       "      <td>1.48</td>\n",
       "      <td>70.1</td>\n",
       "      <td>Chief Design Engineer</td>\n",
       "      <td>Sincelejo</td>\n",
       "      <td>Divorciado</td>\n",
       "      <td>1375615</td>\n",
       "      <td>Universitario</td>\n",
       "      <td>7</td>\n",
       "      <td>7:41 AM</td>\n",
       "      <td>10:27 PM</td>\n",
       "      <td>Término Fijo</td>\n",
       "    </tr>\n",
       "    <tr>\n",
       "      <th>1</th>\n",
       "      <td>María</td>\n",
       "      <td>F</td>\n",
       "      <td>1990-11-15</td>\n",
       "      <td>1.79</td>\n",
       "      <td>49.8</td>\n",
       "      <td>Administrative Assistant IV</td>\n",
       "      <td>Floridablanca</td>\n",
       "      <td>Soltero</td>\n",
       "      <td>3492939</td>\n",
       "      <td>Técnico</td>\n",
       "      <td>2</td>\n",
       "      <td>5:15 AM</td>\n",
       "      <td>6:53 PM</td>\n",
       "      <td>Indefinido</td>\n",
       "    </tr>\n",
       "    <tr>\n",
       "      <th>2</th>\n",
       "      <td>Diego</td>\n",
       "      <td>M</td>\n",
       "      <td>1968-07-21</td>\n",
       "      <td>1.54</td>\n",
       "      <td>100.5</td>\n",
       "      <td>Account Executive</td>\n",
       "      <td>Girón</td>\n",
       "      <td>Divorciado</td>\n",
       "      <td>5886690</td>\n",
       "      <td>Universitario</td>\n",
       "      <td>6</td>\n",
       "      <td>5:02 AM</td>\n",
       "      <td>6:42 PM</td>\n",
       "      <td>Término Fijo</td>\n",
       "    </tr>\n",
       "    <tr>\n",
       "      <th>3</th>\n",
       "      <td>Juan</td>\n",
       "      <td>F</td>\n",
       "      <td>1997-10-05</td>\n",
       "      <td>1.71</td>\n",
       "      <td>54.1</td>\n",
       "      <td>VP Sales</td>\n",
       "      <td>Barrancabermeja</td>\n",
       "      <td>Soltero</td>\n",
       "      <td>4282484</td>\n",
       "      <td>Posgrado</td>\n",
       "      <td>1</td>\n",
       "      <td>7:10 AM</td>\n",
       "      <td>5:40 PM</td>\n",
       "      <td>Indefinido</td>\n",
       "    </tr>\n",
       "    <tr>\n",
       "      <th>4</th>\n",
       "      <td>Bruno</td>\n",
       "      <td>F</td>\n",
       "      <td>1955-06-09</td>\n",
       "      <td>1.77</td>\n",
       "      <td>52.9</td>\n",
       "      <td>Clinical Specialist</td>\n",
       "      <td>Maicao</td>\n",
       "      <td>Divorciado</td>\n",
       "      <td>1495525</td>\n",
       "      <td>Posgrado</td>\n",
       "      <td>2</td>\n",
       "      <td>5:48 AM</td>\n",
       "      <td>8:56 PM</td>\n",
       "      <td>Indefinido</td>\n",
       "    </tr>\n",
       "  </tbody>\n",
       "</table>\n",
       "</div>"
      ],
      "text/plain": [
       "  Nombre Género Fecha_Nacimiento  Altura   Peso                    Profesión  \\\n",
       "0  Pedro      F       1961-11-03    1.48   70.1        Chief Design Engineer   \n",
       "1  María      F       1990-11-15    1.79   49.8  Administrative Assistant IV   \n",
       "2  Diego      M       1968-07-21    1.54  100.5            Account Executive   \n",
       "3   Juan      F       1997-10-05    1.71   54.1                     VP Sales   \n",
       "4  Bruno      F       1955-06-09    1.77   52.9          Clinical Specialist   \n",
       "\n",
       "            Ciudad Estado_Civil  Salario Nivel_Educación  Cantidad_Hijos  \\\n",
       "0        Sincelejo   Divorciado  1375615   Universitario               7   \n",
       "1    Floridablanca      Soltero  3492939         Técnico               2   \n",
       "2            Girón   Divorciado  5886690   Universitario               6   \n",
       "3  Barrancabermeja      Soltero  4282484        Posgrado               1   \n",
       "4           Maicao   Divorciado  1495525        Posgrado               2   \n",
       "\n",
       "  Hora_Entrada Hora_Salida Tipo_Contrato  \n",
       "0      7:41 AM    10:27 PM  Término Fijo  \n",
       "1      5:15 AM     6:53 PM    Indefinido  \n",
       "2      5:02 AM     6:42 PM  Término Fijo  \n",
       "3      7:10 AM     5:40 PM    Indefinido  \n",
       "4      5:48 AM     8:56 PM    Indefinido  "
      ]
     },
     "execution_count": 5,
     "metadata": {},
     "output_type": "execute_result"
    }
   ],
   "source": [
    "socioeconomic_analysis.head(5)"
   ]
  },
  {
   "cell_type": "markdown",
   "metadata": {},
   "source": [
    "#### 2. Principal Components\n",
    "![Dataframe Anatomy](https://raw.githubusercontent.com/CJeiPeer/Pandas-Training/main/Chapters/Chapter1-PandasFoundations/sources/01-DataframeAnatomy.png \"01-DataFrameAnatomy\")\n",
    "\n",
    "\n"
   ]
  },
  {
   "cell_type": "markdown",
   "metadata": {},
   "source": [
    "> Pandas first reads the data from disk into memory and into a Dataframe using the `read_csv` function."
   ]
  },
  {
   "cell_type": "markdown",
   "metadata": {},
   "source": [
    "##### How it Works\n",
    "- The labels and index: allow extract data bases on the index and column name.\n",
    "- When multiple Series or Dataframes are combined, the indexes align first before any calculation.\n",
    "- Columns and the index are know as the `axes`. Columns are `axis 1` and Rows are `axis 0`.\n",
    "- Pandas uses [Nan (not a Number)](https://pandas.pydata.org/docs/user_guide/missing_data.html) to represent missing values. Included string values.\n",
    "- Usually we have three dots ..., in the middle of the columns indicates thtat there is at least one column that exists but is not displayed du tot the number of columns exceeding the predifined display limits.\n",
    "- The `head` and `tail` metods, controls the number of rows displayed."
   ]
  }
 ],
 "metadata": {
  "kernelspec": {
   "display_name": "Python 3",
   "language": "python",
   "name": "python3"
  },
  "language_info": {
   "codemirror_mode": {
    "name": "ipython",
    "version": 3
   },
   "file_extension": ".py",
   "mimetype": "text/x-python",
   "name": "python",
   "nbconvert_exporter": "python",
   "pygments_lexer": "ipython3",
   "version": "3.10.11"
  }
 },
 "nbformat": 4,
 "nbformat_minor": 2
}
